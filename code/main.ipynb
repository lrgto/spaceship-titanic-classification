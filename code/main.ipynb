{
 "cells": [
  {
   "cell_type": "markdown",
   "metadata": {},
   "source": [
    "# Spaceship Titanic Dataset with TensorFlow Decision Forests"
   ]
  },
  {
   "cell_type": "code",
   "execution_count": 77,
   "metadata": {},
   "outputs": [],
   "source": [
    "import os, tensorflow as tf, tensorflow_decision_forests as tfdf, pandas as pd, numpy as np, seaborn as sb, matplotlib.pyplot as plt"
   ]
  },
  {
   "cell_type": "code",
   "execution_count": 78,
   "metadata": {},
   "outputs": [],
   "source": [
    "dir = os.path.abspath(os.path.join(os.path.dirname('__file__'), '..'))\n",
    "train_df, test_df = pd.read_csv(dir+'/data/raw/train.csv'), pd.read_csv(dir+'/data/raw/test.csv') "
   ]
  },
  {
   "cell_type": "code",
   "execution_count": 79,
   "metadata": {},
   "outputs": [
    {
     "name": "stdout",
     "output_type": "stream",
     "text": [
      "Full train dataset shape is (8693, 14) \n",
      "Full test dataset shape is (4277, 13)\n"
     ]
    }
   ],
   "source": [
    "print('Full train dataset shape is {}'.format(train_df.shape),'\\nFull test dataset shape is {}'.format(test_df.shape))\n",
    "#train_df.head(5) #test_df.head(5)\n",
    "#train_df.describe()\n",
    "#train_df.info()"
   ]
  },
  {
   "cell_type": "code",
   "execution_count": 80,
   "metadata": {},
   "outputs": [
    {
     "data": {
      "text/plain": [
       "\"\\nfig, ax = plt.subplots(5,1,  figsize=(10, 10))\\nplt.subplots_adjust(top = 2)\\n\\nsb.histplot(train_df['Age'], color='b', bins=50, ax=ax[0]);\\nsb.histplot(train_df['FoodCourt'], color='b', bins=50, ax=ax[1]);\\nsb.histplot(train_df['ShoppingMall'], color='b', bins=50, ax=ax[2]);\\nsb.histplot(train_df['Spa'], color='b', bins=50, ax=ax[3]);\\nsb.histplot(train_df['VRDeck'], color='b', bins=50, ax=ax[4]);\\n\""
      ]
     },
     "execution_count": 80,
     "metadata": {},
     "output_type": "execute_result"
    }
   ],
   "source": [
    "plt.figure()\n",
    "plot_df = train_df.Transported.value_counts()\n",
    "fig = plot_df.plot(kind=\"bar\",figsize=(10,8),xlabel='Transported',ylabel='Passenger Count',title='Title').get_figure()\n",
    "fig.savefig(dir+'/results/images/Bar_Transported_True-False.png')\n",
    "plt.close()\n",
    "\n",
    "'''\n",
    "fig, ax = plt.subplots(5,1,  figsize=(10, 10))\n",
    "plt.subplots_adjust(top = 2)\n",
    "\n",
    "sb.histplot(train_df['Age'], color='b', bins=50, ax=ax[0]);\n",
    "sb.histplot(train_df['FoodCourt'], color='b', bins=50, ax=ax[1]);\n",
    "sb.histplot(train_df['ShoppingMall'], color='b', bins=50, ax=ax[2]);\n",
    "sb.histplot(train_df['Spa'], color='b', bins=50, ax=ax[3]);\n",
    "sb.histplot(train_df['VRDeck'], color='b', bins=50, ax=ax[4]);\n",
    "'''"
   ]
  },
  {
   "cell_type": "code",
   "execution_count": 81,
   "metadata": {},
   "outputs": [
    {
     "name": "stdout",
     "output_type": "stream",
     "text": [
      "6963 examples in training, 1730 examples in testing.\n",
      "Use /var/folders/7p/t5ltv8ns6r36tgzp427b7cfm0000gn/T/tmp_ss6qb1s as temporary training directory\n",
      "Reading training dataset...\n",
      "Training dataset read in 0:00:00.142529. Found 6963 examples.\n",
      "Training model...\n"
     ]
    },
    {
     "name": "stderr",
     "output_type": "stream",
     "text": [
      "[INFO 23-08-22 09:32:33.7652 BST kernel.cc:1243] Loading model from path /var/folders/7p/t5ltv8ns6r36tgzp427b7cfm0000gn/T/tmp_ss6qb1s/model/ with prefix 6e8b47d48bd94ce4\n"
     ]
    },
    {
     "name": "stdout",
     "output_type": "stream",
     "text": [
      "Model trained in 0:00:15.756309\n",
      "Compiling model...\n",
      "Model compiled.\n"
     ]
    },
    {
     "name": "stderr",
     "output_type": "stream",
     "text": [
      "[INFO 23-08-22 09:32:34.1396 BST decision_forest.cc:660] Model loaded with 300 root(s), 236068 node(s), and 13 input feature(s).\n",
      "[INFO 23-08-22 09:32:34.1397 BST abstract_model.cc:1312] Engine \"RandomForestGeneric\" built\n",
      "[INFO 23-08-22 09:32:34.1397 BST kernel.cc:1075] Use fast generic engine\n"
     ]
    },
    {
     "data": {
      "image/png": "[encoded data removed]",
      "text/plain": [
       "<Figure size 640x480 with 1 Axes>"
      ]
     },
     "metadata": {},
     "output_type": "display_data"
    },
    {
     "name": "stdout",
     "output_type": "stream",
     "text": [
      "2/2 [==============================] - 0s 33ms/step - loss: 0.0000e+00 - accuracy: 0.8012\n",
      "loss: 0.0000\n",
      "accuracy: 0.8012\n",
      "Available variable importances:\n",
      "\t INV_MEAN_MIN_DEPTH\n",
      "\t NUM_AS_ROOT\n",
      "\t SUM_SCORE\n",
      "\t NUM_NODES\n"
     ]
    },
    {
     "data": {
      "text/plain": [
       "[(\"CryoSleep\" (1; #2), 113.0),\n",
       " (\"RoomService\" (1; #7), 81.0),\n",
       " (\"Spa\" (1; #10), 51.0),\n",
       " (\"VRDeck\" (1; #12), 30.0),\n",
       " (\"ShoppingMall\" (1; #8), 14.0),\n",
       " (\"FoodCourt\" (1; #5), 6.0),\n",
       " (\"Deck\" (4; #3), 3.0),\n",
       " (\"HomePlanet\" (4; #6), 2.0)]"
      ]
     },
     "execution_count": 81,
     "metadata": {},
     "output_type": "execute_result"
    }
   ],
   "source": [
    "train_df = train_df.drop(['PassengerId', 'Name'], axis=1)\n",
    "train_df.head(5)\n",
    "\n",
    "train_df.isnull().sum().sort_values(ascending=False)\n",
    "\n",
    "train_df[['VIP', 'CryoSleep', 'FoodCourt', 'ShoppingMall', 'Spa', 'VRDeck']] = train_df[['VIP', 'CryoSleep', 'FoodCourt', 'ShoppingMall', 'Spa', 'VRDeck']].fillna(value=0)\n",
    "train_df.isnull().sum().sort_values(ascending=False)\n",
    "\n",
    "label = \"Transported\"\n",
    "train_df[label] = train_df[label].astype(int)\n",
    "\n",
    "train_df['VIP'] = train_df['VIP'].astype(int)\n",
    "train_df['CryoSleep'] = train_df['CryoSleep'].astype(int)\n",
    "\n",
    "train_df[[\"Deck\", \"Cabin_num\", \"Side\"]] = train_df[\"Cabin\"].str.split(\"/\", expand=True)\n",
    "\n",
    "try:\n",
    "    train_df = train_df.drop('Cabin', axis=1)\n",
    "except KeyError:\n",
    "    print(\"Field does not exist\")\n",
    "    \n",
    "train_df.head(5)\n",
    "\n",
    "def split_dataset(dataset, test_ratio=0.20):\n",
    "  test_indices = np.random.rand(len(dataset)) < test_ratio\n",
    "  return dataset[~test_indices], dataset[test_indices]\n",
    "\n",
    "train_ds_pd, valid_ds_pd = split_dataset(train_df)\n",
    "print(\"{} examples in training, {} examples in testing.\".format(\n",
    "    len(train_ds_pd), len(valid_ds_pd)))\n",
    "\n",
    "train_ds = tfdf.keras.pd_dataframe_to_tf_dataset(train_ds_pd, label=label)\n",
    "valid_ds = tfdf.keras.pd_dataframe_to_tf_dataset(valid_ds_pd, label=label)\n",
    "\n",
    "tfdf.keras.get_all_models()\n",
    "rf = tfdf.keras.RandomForestModel()\n",
    "rf.compile(metrics=[\"accuracy\"]) # Optional, you can use this to include a list of eval metrics\n",
    "\n",
    "rf.fit(x=train_ds)\n",
    "tfdf.model_plotter.plot_model_in_colab(rf, tree_idx=0, max_depth=3)\n",
    "\n",
    "import matplotlib.pyplot as plt\n",
    "logs = rf.make_inspector().training_logs()\n",
    "plt.plot([log.num_trees for log in logs], [log.evaluation.accuracy for log in logs])\n",
    "plt.xlabel(\"Number of trees\")\n",
    "plt.ylabel(\"Accuracy (out-of-bag)\")\n",
    "plt.savefig(dir+'/results/images/Accuracy_Tress.png')\n",
    "plt.show()\n",
    "\n",
    "inspector = rf.make_inspector()\n",
    "inspector.evaluation()\n",
    "\n",
    "evaluation = rf.evaluate(x=valid_ds,return_dict=True)\n",
    "\n",
    "for name, value in evaluation.items():\n",
    "  print(f\"{name}: {value:.4f}\")\n",
    "  \n",
    "print(f\"Available variable importances:\")\n",
    "for importance in inspector.variable_importances().keys():\n",
    "  print(\"\\t\", importance)\n",
    "\n",
    "# Each line is: (feature name, (index of the feature), importance score)\n",
    "inspector.variable_importances()[\"NUM_AS_ROOT\"]"
   ]
  },
  {
   "cell_type": "code",
   "execution_count": 82,
   "metadata": {},
   "outputs": [
    {
     "name": "stdout",
     "output_type": "stream",
     "text": [
      "5/5 [==============================] - 0s 40ms/step\n"
     ]
    },
    {
     "data": {
      "text/html": [
       "<div>\n",
       "<style scoped>\n",
       "    .dataframe tbody tr th:only-of-type {\n",
       "        vertical-align: middle;\n",
       "    }\n",
       "\n",
       "    .dataframe tbody tr th {\n",
       "        vertical-align: top;\n",
       "    }\n",
       "\n",
       "    .dataframe thead th {\n",
       "        text-align: right;\n",
       "    }\n",
       "</style>\n",
       "<table border=\"1\" class=\"dataframe\">\n",
       "  <thead>\n",
       "    <tr style=\"text-align: right;\">\n",
       "      <th></th>\n",
       "      <th>PassengerId</th>\n",
       "      <th>Transported</th>\n",
       "    </tr>\n",
       "  </thead>\n",
       "  <tbody>\n",
       "    <tr>\n",
       "      <th>0</th>\n",
       "      <td>0013_01</td>\n",
       "      <td>True</td>\n",
       "    </tr>\n",
       "    <tr>\n",
       "      <th>1</th>\n",
       "      <td>0018_01</td>\n",
       "      <td>False</td>\n",
       "    </tr>\n",
       "    <tr>\n",
       "      <th>2</th>\n",
       "      <td>0019_01</td>\n",
       "      <td>True</td>\n",
       "    </tr>\n",
       "    <tr>\n",
       "      <th>3</th>\n",
       "      <td>0021_01</td>\n",
       "      <td>True</td>\n",
       "    </tr>\n",
       "    <tr>\n",
       "      <th>4</th>\n",
       "      <td>0023_01</td>\n",
       "      <td>False</td>\n",
       "    </tr>\n",
       "  </tbody>\n",
       "</table>\n",
       "</div>"
      ],
      "text/plain": [
       "  PassengerId  Transported\n",
       "0     0013_01         True\n",
       "1     0018_01        False\n",
       "2     0019_01         True\n",
       "3     0021_01         True\n",
       "4     0023_01        False"
      ]
     },
     "execution_count": 82,
     "metadata": {},
     "output_type": "execute_result"
    }
   ],
   "source": [
    "# Load the test dataset\n",
    "submission_id = test_df.PassengerId\n",
    "\n",
    "# Replace NaN values with zero\n",
    "test_df[['VIP', 'CryoSleep']] = test_df[['VIP', 'CryoSleep']].fillna(value=0)\n",
    "\n",
    "# Creating New Features - Deck, Cabin_num and Side from the column Cabin and remove Cabin\n",
    "test_df[[\"Deck\", \"Cabin_num\", \"Side\"]] = test_df[\"Cabin\"].str.split(\"/\", expand=True)\n",
    "test_df = test_df.drop('Cabin', axis=1)\n",
    "\n",
    "# Convert boolean to 1's and 0's\n",
    "test_df['VIP'] = test_df['VIP'].astype(int)\n",
    "test_df['CryoSleep'] = test_df['CryoSleep'].astype(int)\n",
    "\n",
    "# Convert pd dataframe to tf dataset\n",
    "test_ds = tfdf.keras.pd_dataframe_to_tf_dataset(test_df)\n",
    "\n",
    "# Get the predictions for testdata\n",
    "predictions = rf.predict(test_ds)\n",
    "n_predictions = (predictions > 0.5).astype(bool)\n",
    "output = pd.DataFrame({'PassengerId': submission_id,\n",
    "                       'Transported': n_predictions.squeeze()})\n",
    "\n",
    "output.head()\n",
    "\n",
    "sample_submission_df = pd.read_csv(dir+'/data/sample_submission.csv') \n",
    "sample_submission_df['Transported'] = n_predictions\n",
    "sample_submission_df.to_csv(dir+'/results/data/submission.csv', index=False)\n",
    "sample_submission_df.head()"
   ]
  }
 ],
 "metadata": {
  "kernelspec": {
   "display_name": "Python 3",
   "language": "python",
   "name": "python3"
  },
  "language_info": {
   "codemirror_mode": {
    "name": "ipython",
    "version": 3
   },
   "file_extension": ".py",
   "mimetype": "text/x-python",
   "name": "python",
   "nbconvert_exporter": "python",
   "pygments_lexer": "ipython3",
   "version": "3.9.6"
  },
  "orig_nbformat": 4
 },
 "nbformat": 4,
 "nbformat_minor": 2
}
